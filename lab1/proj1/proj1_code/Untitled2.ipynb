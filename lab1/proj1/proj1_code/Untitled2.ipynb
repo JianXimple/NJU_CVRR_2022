{
 "cells": [
  {
   "cell_type": "code",
   "execution_count": 13,
   "id": "56e1f2f9",
   "metadata": {},
   "outputs": [
    {
     "name": "stdout",
     "output_type": "stream",
     "text": [
      "[[3 4 6]\n",
      " [9 4 4]\n",
      " [5 5 4]]\n"
     ]
    }
   ],
   "source": [
    "import numpy as np\n",
    "k=np.random.randint(0,10,size=(3,3))\n",
    "rows,cols=k.shape\n",
    "print(k)"
   ]
  },
  {
   "cell_type": "code",
   "execution_count": 14,
   "id": "591b5b4b",
   "metadata": {},
   "outputs": [
    {
     "name": "stdout",
     "output_type": "stream",
     "text": [
      "(1, 3, 3)\n",
      "[[[3 4 6]\n",
      "  [9 4 4]\n",
      "  [5 5 4]]]\n"
     ]
    }
   ],
   "source": [
    "kk=k.reshape((1,rows,cols))\n",
    "print(kk.shape)\n",
    "print(kk)"
   ]
  },
  {
   "cell_type": "code",
   "execution_count": 15,
   "id": "c52adf6e",
   "metadata": {},
   "outputs": [
    {
     "name": "stdout",
     "output_type": "stream",
     "text": [
      "(3, 1, 3, 3)\n",
      "[[[[3 4 6]\n",
      "   [9 4 4]\n",
      "   [5 5 4]]]\n",
      "\n",
      "\n",
      " [[[3 4 6]\n",
      "   [9 4 4]\n",
      "   [5 5 4]]]\n",
      "\n",
      "\n",
      " [[[3 4 6]\n",
      "   [9 4 4]\n",
      "   [5 5 4]]]]\n"
     ]
    }
   ],
   "source": [
    "kkk=np.tile(kk,(3,1,1,1))\n",
    "print(kkk.shape)\n",
    "print(kkk)"
   ]
  },
  {
   "cell_type": "code",
   "execution_count": 16,
   "id": "b0543c1e",
   "metadata": {},
   "outputs": [],
   "source": [
    "import torch\n",
    "import torch.nn as nn\n",
    "import torch.nn.functional as F"
   ]
  },
  {
   "cell_type": "code",
   "execution_count": 19,
   "id": "cc4314d8",
   "metadata": {},
   "outputs": [
    {
     "name": "stdout",
     "output_type": "stream",
     "text": [
      "<class 'numpy.ndarray'>\n",
      "<class 'torch.Tensor'>\n"
     ]
    }
   ],
   "source": [
    "print(type(kkk))\n",
    "kernel=torch.tensor(kkk)\n",
    "print(type(kernel))"
   ]
  },
  {
   "cell_type": "code",
   "execution_count": 22,
   "id": "c6d11709",
   "metadata": {},
   "outputs": [
    {
     "name": "stdout",
     "output_type": "stream",
     "text": [
      "tensor([7., 6., 3.])\n",
      "tensor(7.)\n"
     ]
    }
   ],
   "source": [
    "a=torch.Tensor([7,6,3])\n",
    "print(a)\n",
    "print(a[0])"
   ]
  },
  {
   "cell_type": "code",
   "execution_count": null,
   "id": "550d4940",
   "metadata": {},
   "outputs": [],
   "source": []
  }
 ],
 "metadata": {
  "kernelspec": {
   "display_name": "cv_proj1",
   "language": "python",
   "name": "cv_proj1"
  },
  "language_info": {
   "codemirror_mode": {
    "name": "ipython",
    "version": 3
   },
   "file_extension": ".py",
   "mimetype": "text/x-python",
   "name": "python",
   "nbconvert_exporter": "python",
   "pygments_lexer": "ipython3",
   "version": "3.6.13"
  }
 },
 "nbformat": 4,
 "nbformat_minor": 5
}
