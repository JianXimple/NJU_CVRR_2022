{
 "cells": [
  {
   "cell_type": "code",
   "execution_count": 7,
   "id": "c0a4b10d",
   "metadata": {},
   "outputs": [
    {
     "name": "stdout",
     "output_type": "stream",
     "text": [
      "filter shape (1, 3)\n",
      "[[1 1 1]]\n",
      "img shape (2, 3, 3)\n",
      "[[[0 0 0]\n",
      "  [1 1 1]\n",
      "  [3 3 3]]\n",
      "\n",
      " [[4 4 4]\n",
      "  [5 5 5]\n",
      "  [6 6 6]]]\n",
      "pre shape (2, 5, 3)\n",
      "[[[0 0 0]\n",
      "  [0 0 0]\n",
      "  [1 1 1]\n",
      "  [3 3 3]\n",
      "  [0 0 0]]\n",
      "\n",
      " [[0 0 0]\n",
      "  [4 4 4]\n",
      "  [5 5 5]\n",
      "  [6 6 6]\n",
      "  [0 0 0]]]\n",
      "[[0 0 1 3 0]\n",
      " [0 4 5 6 0]]\n"
     ]
    }
   ],
   "source": [
    "import numpy as np\n",
    "filter = np.array(\n",
    "    [\n",
    "        [1, 1, 1]\n",
    "    ]\n",
    ")\n",
    "print(\"filter shape\",filter.shape)\n",
    "print(filter)\n",
    "channel_img = np.array(\n",
    "    [\n",
    "        [0, 1, 3],\n",
    "        [4, 5, 6]\n",
    "    ]\n",
    ")\n",
    "\n",
    "img = np.zeros((2, 3, 3), dtype=np.uint8)\n",
    "for i in range(3):\n",
    "    img[:, :, i] = channel_img\n",
    "print(\"img shape\",img.shape)\n",
    "print(img)\n",
    "pre=np.pad(img,((0,0),(1,1),(0,0)),'constant',constant_values=(0,0))\n",
    "print(\"pre shape\",pre.shape)\n",
    "print(pre)\n",
    "p=pre[...,0]\n",
    "print(p)\n",
    "[rows,cols]=p.shape\n",
    "for i in range(0,rows-0):\n",
    "                for j in range(1,cols-1):\n",
    "                      print(i,j)\n",
    "                      conv_input=p[i-0:i+0+1,j-1:j+1+1]\n",
    "                      print(conv_input)"
   ]
  },
  {
   "cell_type": "code",
   "execution_count": null,
   "id": "fa8b336f",
   "metadata": {},
   "outputs": [],
   "source": []
  }
 ],
 "metadata": {
  "kernelspec": {
   "display_name": "cv_proj1",
   "language": "python",
   "name": "cv_proj1"
  },
  "language_info": {
   "codemirror_mode": {
    "name": "ipython",
    "version": 3
   },
   "file_extension": ".py",
   "mimetype": "text/x-python",
   "name": "python",
   "nbconvert_exporter": "python",
   "pygments_lexer": "ipython3",
   "version": "3.6.13"
  }
 },
 "nbformat": 4,
 "nbformat_minor": 5
}
